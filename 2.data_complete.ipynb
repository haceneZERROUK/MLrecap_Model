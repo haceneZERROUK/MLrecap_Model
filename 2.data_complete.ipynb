{
 "cells": [
  {
   "cell_type": "code",
   "execution_count": 581,
   "id": "5408efe3",
   "metadata": {},
   "outputs": [],
   "source": [
    "import pandas as pd\n",
    "import numpy as np\n",
    "pd.set_option('display.max_columns', None)\n"
   ]
  },
  {
   "cell_type": "code",
   "execution_count": 582,
   "id": "0ba40374",
   "metadata": {},
   "outputs": [],
   "source": [
    "df_incomplete = pd.read_json(\"dataset_nottoyé.json\")\n",
    "df = pd.read_json(\"dataset_donnees_complementaires.json\")\n",
    "\n",
    "df.drop([\"jpbox_fr_title\"], axis = 1, inplace=True)"
   ]
  },
  {
   "cell_type": "code",
   "execution_count": 583,
   "id": "127432ac",
   "metadata": {},
   "outputs": [
    {
     "data": {
      "text/plain": [
       "jpbox_fr_title                0\n",
       "allocine_fr_title             0\n",
       "jpbox_released_year           0\n",
       "jpbox_actors                633\n",
       "jpbox_directors            1144\n",
       "allocine_writer            1632\n",
       "allocine_distribution      1776\n",
       "jpbox_country                 0\n",
       "jpbox_budget               1263\n",
       "jpbox_category                0\n",
       "jpbox_released_date           0\n",
       "allocine_classification       0\n",
       "jpbox_duration                0\n",
       "jpbox_weekly_entrances        0\n",
       "duration_minutes              0\n",
       "dtype: int64"
      ]
     },
     "execution_count": 583,
     "metadata": {},
     "output_type": "execute_result"
    }
   ],
   "source": [
    "df_incomplete.isna().sum()"
   ]
  },
  {
   "cell_type": "code",
   "execution_count": 584,
   "id": "05a6470e",
   "metadata": {},
   "outputs": [
    {
     "data": {
      "text/plain": [
       "allocine_fr_title             0\n",
       "jpbox_released_year           0\n",
       "jpbox_actors                525\n",
       "jpbox_directors             995\n",
       "allocine_writer            1427\n",
       "allocine_distribution      1577\n",
       "jpbox_country                 0\n",
       "jpbox_budget               1089\n",
       "jpbox_category                0\n",
       "jpbox_released_date           0\n",
       "allocine_classification       0\n",
       "jpbox_duration                0\n",
       "jpbox_weekly_entrances        0\n",
       "duration_minutes              0\n",
       "imdb_url                      0\n",
       "imdb_title                    0\n",
       "imdb_released_year            0\n",
       "imdb_directors                8\n",
       "imdb_writer                  24\n",
       "imdb_actors                   0\n",
       "imdb_distribution            34\n",
       "imdb_budget                3225\n",
       "dtype: int64"
      ]
     },
     "execution_count": 584,
     "metadata": {},
     "output_type": "execute_result"
    }
   ],
   "source": [
    "df.isna().sum()"
   ]
  },
  {
   "cell_type": "code",
   "execution_count": 585,
   "id": "3bc18b44",
   "metadata": {},
   "outputs": [
    {
     "data": {
      "text/plain": [
       "imdb_actors\n",
       "[]                                                          119\n",
       "[Ariane Ascaride, Jean-Pierre Darroussin, Gérard Meylan]      7\n",
       "[Daniel Radcliffe, Emma Watson, Rupert Grint]                 6\n",
       "[Kristen Stewart, Robert Pattinson, Taylor Lautner]           4\n",
       "[Jean-Paul Rouve, Isabelle Nanty, Claire Nadeau]              4\n",
       "                                                           ... \n",
       "[Lukas Ionesco, Diane Rouxel, Théo Cholbi]                    1\n",
       "[Aenne Schwarz, Andreas Döhler, Hans Löw]                     1\n",
       "[Angus Cameron, Saskia Sassen, Brigitte Alepin]               1\n",
       "[Manolo Solo, Jose Coronado, Ana Torrent]                     1\n",
       "[Neta Riskin, Golshifteh Farahani, Yehuda Almagor]            1\n",
       "Name: count, Length: 7084, dtype: int64"
      ]
     },
     "execution_count": 585,
     "metadata": {},
     "output_type": "execute_result"
    }
   ],
   "source": [
    "df.shape\n",
    "df[\"imdb_actors\"].value_counts()\n"
   ]
  },
  {
   "cell_type": "code",
   "execution_count": 586,
   "id": "27b0fdec",
   "metadata": {},
   "outputs": [
    {
     "data": {
      "text/plain": [
       "allocine_fr_title             0\n",
       "jpbox_released_year           0\n",
       "jpbox_actors                  0\n",
       "jpbox_directors               5\n",
       "allocine_writer              20\n",
       "allocine_distribution        14\n",
       "jpbox_country                 0\n",
       "jpbox_budget                854\n",
       "jpbox_category                0\n",
       "jpbox_released_date           0\n",
       "allocine_classification       0\n",
       "jpbox_duration                0\n",
       "jpbox_weekly_entrances        0\n",
       "duration_minutes              0\n",
       "imdb_url                      0\n",
       "imdb_title                    0\n",
       "imdb_released_year            0\n",
       "imdb_directors                8\n",
       "imdb_writer                  24\n",
       "imdb_actors                   0\n",
       "imdb_distribution            34\n",
       "imdb_budget                3225\n",
       "dtype: int64"
      ]
     },
     "execution_count": 586,
     "metadata": {},
     "output_type": "execute_result"
    }
   ],
   "source": [
    "df[\"jpbox_directors\"] = df[\"jpbox_directors\"].fillna(df[\"imdb_directors\"])\n",
    "df[\"allocine_writer\"] = df[\"allocine_writer\"].fillna(df[\"imdb_writer\"])\n",
    "df[\"allocine_distribution\"] = df[\"allocine_distribution\"].fillna(df[\"imdb_distribution\"])\n",
    "df[\"jpbox_budget\"] = df[\"jpbox_budget\"].fillna(df[\"imdb_budget\"])\n",
    "df[\"jpbox_budget\"] = df[\"jpbox_budget\"].str.replace(r\"[^\\d]\", \"\", regex=True)\n",
    "\n",
    "df[\"jpbox_actors\"] = df[\"jpbox_actors\"].fillna(df[\"imdb_actors\"])\n",
    "df[\"imdb_actors\"] = df.apply(lambda row: row[\"imdb_actors\"] if len(row[\"imdb_actors\"]) > len(row[\"jpbox_actors\"]) else row[\"jpbox_actors\"],axis=1)\n",
    "\n",
    "df.isna().sum()\n"
   ]
  },
  {
   "cell_type": "code",
   "execution_count": 587,
   "id": "97458d36",
   "metadata": {},
   "outputs": [],
   "source": [
    "df = df.drop([\n",
    "    \"imdb_url\", \n",
    "    \"imdb_title\", \n",
    "    \"imdb_released_year\", \n",
    "    \"imdb_directors\", \n",
    "    \"imdb_writer\", \n",
    "    \"jpbox_actors\", \n",
    "    \"imdb_distribution\", \n",
    "    \"imdb_budget\", \n",
    "],axis = 1)"
   ]
  },
  {
   "cell_type": "code",
   "execution_count": 588,
   "id": "774eb8b4",
   "metadata": {},
   "outputs": [
    {
     "data": {
      "text/plain": [
       "allocine_fr_title            0\n",
       "jpbox_released_year          0\n",
       "jpbox_directors              5\n",
       "allocine_writer             20\n",
       "allocine_distribution       14\n",
       "jpbox_country                0\n",
       "jpbox_budget               854\n",
       "jpbox_category               0\n",
       "jpbox_released_date          0\n",
       "allocine_classification      0\n",
       "jpbox_duration               0\n",
       "jpbox_weekly_entrances       0\n",
       "duration_minutes             0\n",
       "imdb_actors                  0\n",
       "dtype: int64"
      ]
     },
     "execution_count": 588,
     "metadata": {},
     "output_type": "execute_result"
    }
   ],
   "source": [
    "df.isna().sum()"
   ]
  },
  {
   "cell_type": "code",
   "execution_count": 589,
   "id": "ec064396",
   "metadata": {},
   "outputs": [
    {
     "data": {
      "text/plain": [
       "(7280, 14)"
      ]
     },
     "execution_count": 589,
     "metadata": {},
     "output_type": "execute_result"
    }
   ],
   "source": [
    "df.shape"
   ]
  },
  {
   "cell_type": "code",
   "execution_count": 590,
   "id": "8c10fcde",
   "metadata": {},
   "outputs": [
    {
     "name": "stdout",
     "output_type": "stream",
     "text": [
      "(7251, 14)\n"
     ]
    },
    {
     "data": {
      "text/plain": [
       "allocine_fr_title            0\n",
       "jpbox_released_year          0\n",
       "jpbox_directors              0\n",
       "allocine_writer              0\n",
       "allocine_distribution        0\n",
       "jpbox_country                0\n",
       "jpbox_budget               837\n",
       "jpbox_category               0\n",
       "jpbox_released_date          0\n",
       "allocine_classification      0\n",
       "jpbox_duration               0\n",
       "jpbox_weekly_entrances       0\n",
       "duration_minutes             0\n",
       "imdb_actors                  0\n",
       "dtype: int64"
      ]
     },
     "execution_count": 590,
     "metadata": {},
     "output_type": "execute_result"
    }
   ],
   "source": [
    "df = df.dropna(subset=\"jpbox_directors\")\n",
    "df = df.dropna(subset=\"allocine_writer\")\n",
    "df = df.dropna(subset=\"allocine_distribution\")\n",
    "\n",
    "print(df.shape)\n",
    "df.isna().sum()"
   ]
  },
  {
   "cell_type": "code",
   "execution_count": 591,
   "id": "bba1aec0",
   "metadata": {},
   "outputs": [
    {
     "data": {
      "text/plain": [
       "jpbox_country\n",
       "France             691\n",
       "Belgique            23\n",
       "Etats-Unis          14\n",
       "Grande-Bretagne     10\n",
       "Espagne             10\n",
       "Italie               9\n",
       "Allemagne            8\n",
       "Japon                8\n",
       "Israël               7\n",
       "Suisse               4\n",
       "Canada               4\n",
       "Danemark             3\n",
       "Chine                3\n",
       "Argentine            3\n",
       "Portugal             3\n",
       "Corée du Sud         3\n",
       "Iran                 2\n",
       "Mongolie             2\n",
       "Turquie              2\n",
       "Russie               2\n",
       "Algérie              2\n",
       "Colombie             2\n",
       "Egypte               2\n",
       "Suède                2\n",
       "Chili                2\n",
       "Norvège              2\n",
       "Luxembourg           1\n",
       "Finlande             1\n",
       "Rép. Tchèque         1\n",
       "Tunisie              1\n",
       "Roumanie             1\n",
       "Cuba                 1\n",
       "Brésil               1\n",
       "Viet-Nam             1\n",
       "Lettonie             1\n",
       "Australie            1\n",
       "Inde                 1\n",
       "Afrique du Sud       1\n",
       "Ukraine              1\n",
       "Bosnie               1\n",
       "Name: count, dtype: int64"
      ]
     },
     "execution_count": 591,
     "metadata": {},
     "output_type": "execute_result"
    }
   ],
   "source": [
    "# liste des pays ou il nous manque le budget\n",
    "\n",
    "df[df[\"jpbox_budget\"].isna()][\"jpbox_country\"].value_counts()"
   ]
  },
  {
   "cell_type": "code",
   "execution_count": 592,
   "id": "40c66b0a",
   "metadata": {},
   "outputs": [
    {
     "name": "stdout",
     "output_type": "stream",
     "text": [
      "8611469\n"
     ]
    }
   ],
   "source": [
    "mean_fr_budget = round(pd.to_numeric(df[df[\"jpbox_country\"] == \"France\"][\"jpbox_budget\"]).mean())\n",
    "print(mean_fr_budget)\n",
    "# pd.to_numeric(df[\"jpbox_budget\"][df[\"jpbox_country\"] == \"France\"]).mean()"
   ]
  },
  {
   "cell_type": "code",
   "execution_count": 593,
   "id": "00f82c7e",
   "metadata": {},
   "outputs": [
    {
     "name": "stdout",
     "output_type": "stream",
     "text": [
      "(7251, 14)\n"
     ]
    },
    {
     "data": {
      "text/plain": [
       "allocine_fr_title          0\n",
       "jpbox_released_year        0\n",
       "jpbox_directors            0\n",
       "allocine_writer            0\n",
       "allocine_distribution      0\n",
       "jpbox_country              0\n",
       "jpbox_budget               0\n",
       "jpbox_category             0\n",
       "jpbox_released_date        0\n",
       "allocine_classification    0\n",
       "jpbox_duration             0\n",
       "jpbox_weekly_entrances     0\n",
       "duration_minutes           0\n",
       "imdb_actors                0\n",
       "dtype: int64"
      ]
     },
     "execution_count": 593,
     "metadata": {},
     "output_type": "execute_result"
    }
   ],
   "source": [
    "df[\"jpbox_budget\"] = df[\"jpbox_budget\"].fillna(mean_fr_budget)\n",
    "\n",
    "print(df.shape)\n",
    "df.isna().sum()"
   ]
  },
  {
   "cell_type": "code",
   "execution_count": 594,
   "id": "93fb738c",
   "metadata": {},
   "outputs": [],
   "source": [
    "df.rename(columns={\n",
    "    \"jpbox_released_year\" : \"released_year\",\n",
    "    \"imdb_actors\" : \"actors\",\n",
    "    \"jpbox_directors\" : \"directors\",\n",
    "    \"jpbox_country\" : \"country\",\n",
    "    \"jpbox_budget\" : \"budget\",\n",
    "    \"jpbox_category\" : \"category\",\n",
    "    \"jpbox_released_date\" : \"released_date\",\n",
    "    \"jpbox_duration\" : \"duration\",\n",
    "    \"jpbox_weekly_entrances\" : \"weekly_entrances\",\n",
    "    \"allocine_writer\" : \"writer\",\n",
    "    \"allocine_fr_title\" : \"fr_title\",\n",
    "    \"allocine_classification\" : \"classification\",\n",
    "    \"allocine_distribution\" : \"distribution\"\n",
    "}, inplace=True)"
   ]
  },
  {
   "cell_type": "code",
   "execution_count": 595,
   "id": "31e4e9d8",
   "metadata": {},
   "outputs": [
    {
     "data": {
      "text/html": [
       "<div>\n",
       "<style scoped>\n",
       "    .dataframe tbody tr th:only-of-type {\n",
       "        vertical-align: middle;\n",
       "    }\n",
       "\n",
       "    .dataframe tbody tr th {\n",
       "        vertical-align: top;\n",
       "    }\n",
       "\n",
       "    .dataframe thead th {\n",
       "        text-align: right;\n",
       "    }\n",
       "</style>\n",
       "<table border=\"1\" class=\"dataframe\">\n",
       "  <thead>\n",
       "    <tr style=\"text-align: right;\">\n",
       "      <th></th>\n",
       "      <th>fr_title</th>\n",
       "      <th>released_year</th>\n",
       "      <th>directors</th>\n",
       "      <th>writer</th>\n",
       "      <th>distribution</th>\n",
       "      <th>country</th>\n",
       "      <th>budget</th>\n",
       "      <th>category</th>\n",
       "      <th>released_date</th>\n",
       "      <th>classification</th>\n",
       "      <th>duration</th>\n",
       "      <th>weekly_entrances</th>\n",
       "      <th>duration_minutes</th>\n",
       "      <th>actors</th>\n",
       "    </tr>\n",
       "  </thead>\n",
       "  <tbody>\n",
       "    <tr>\n",
       "      <th>0</th>\n",
       "      <td>La Ch’tite famille</td>\n",
       "      <td>2018</td>\n",
       "      <td>Dany Boon</td>\n",
       "      <td>Dany Boon</td>\n",
       "      <td>Pathé Films</td>\n",
       "      <td>France</td>\n",
       "      <td>27800000</td>\n",
       "      <td>Comédie</td>\n",
       "      <td>28/02/2018</td>\n",
       "      <td>Tout public</td>\n",
       "      <td>1h 47min</td>\n",
       "      <td>2429906</td>\n",
       "      <td>107</td>\n",
       "      <td>[Dany Boon, François Berléand, Valérie Bonneto...</td>\n",
       "    </tr>\n",
       "    <tr>\n",
       "      <th>1</th>\n",
       "      <td>Rien à déclarer</td>\n",
       "      <td>2011</td>\n",
       "      <td>Dany Boon</td>\n",
       "      <td>Dany Boon</td>\n",
       "      <td>Pathé Films</td>\n",
       "      <td>France</td>\n",
       "      <td>24434009</td>\n",
       "      <td>Comédie</td>\n",
       "      <td>02/02/2011</td>\n",
       "      <td>Interdit - 10 ans</td>\n",
       "      <td>1h 48min</td>\n",
       "      <td>2587056</td>\n",
       "      <td>108</td>\n",
       "      <td>[Dany Boon, Benoît Poelvoorde, François Damien...</td>\n",
       "    </tr>\n",
       "    <tr>\n",
       "      <th>2</th>\n",
       "      <td>Avatar</td>\n",
       "      <td>2009</td>\n",
       "      <td>James Cameron</td>\n",
       "      <td>James Cameron</td>\n",
       "      <td>The Walt Disney Company France</td>\n",
       "      <td>Etats-Unis</td>\n",
       "      <td>315000000</td>\n",
       "      <td>Science Fiction</td>\n",
       "      <td>16/12/2009</td>\n",
       "      <td>Tout public</td>\n",
       "      <td>2h 40min</td>\n",
       "      <td>2648596</td>\n",
       "      <td>160</td>\n",
       "      <td>[Sam Worthington, Zoe Saldaña, Sigourney Weaver]</td>\n",
       "    </tr>\n",
       "    <tr>\n",
       "      <th>3</th>\n",
       "      <td>Avengers: Infinity War</td>\n",
       "      <td>2018</td>\n",
       "      <td>- Russo (brothers)</td>\n",
       "      <td>Christopher Markus</td>\n",
       "      <td>The Walt Disney Company France</td>\n",
       "      <td>Etats-Unis</td>\n",
       "      <td>295000000</td>\n",
       "      <td>Comicbook</td>\n",
       "      <td>25/04/2018</td>\n",
       "      <td>Tout public</td>\n",
       "      <td>2h 36min</td>\n",
       "      <td>2565953</td>\n",
       "      <td>156</td>\n",
       "      <td>[Chris Evans, Chris Hemsworth, Josh Brolin, Ro...</td>\n",
       "    </tr>\n",
       "    <tr>\n",
       "      <th>4</th>\n",
       "      <td>Harry Potter et les reliques de la mort - part...</td>\n",
       "      <td>2010</td>\n",
       "      <td>David Yates</td>\n",
       "      <td>Joanne Kathleen Rowling</td>\n",
       "      <td>Warner Bros.</td>\n",
       "      <td>Etats-Unis</td>\n",
       "      <td>125000000</td>\n",
       "      <td>Fantasy</td>\n",
       "      <td>24/11/2010</td>\n",
       "      <td>Tout public</td>\n",
       "      <td>2h 30min</td>\n",
       "      <td>2537450</td>\n",
       "      <td>150</td>\n",
       "      <td>[Daniel Radcliffe, Emma Watson, Helena Bonham ...</td>\n",
       "    </tr>\n",
       "  </tbody>\n",
       "</table>\n",
       "</div>"
      ],
      "text/plain": [
       "                                            fr_title  released_year  \\\n",
       "0                                 La Ch’tite famille           2018   \n",
       "1                                    Rien à déclarer           2011   \n",
       "2                                             Avatar           2009   \n",
       "3                             Avengers: Infinity War           2018   \n",
       "4  Harry Potter et les reliques de la mort - part...           2010   \n",
       "\n",
       "            directors                   writer  \\\n",
       "0           Dany Boon                Dany Boon   \n",
       "1           Dany Boon                Dany Boon   \n",
       "2       James Cameron            James Cameron   \n",
       "3  - Russo (brothers)       Christopher Markus   \n",
       "4         David Yates  Joanne Kathleen Rowling   \n",
       "\n",
       "                     distribution     country     budget         category  \\\n",
       "0                     Pathé Films      France   27800000          Comédie   \n",
       "1                     Pathé Films      France   24434009          Comédie   \n",
       "2  The Walt Disney Company France  Etats-Unis  315000000  Science Fiction   \n",
       "3  The Walt Disney Company France  Etats-Unis  295000000        Comicbook   \n",
       "4                    Warner Bros.  Etats-Unis  125000000          Fantasy   \n",
       "\n",
       "  released_date     classification  duration  weekly_entrances  \\\n",
       "0    28/02/2018        Tout public  1h 47min           2429906   \n",
       "1    02/02/2011  Interdit - 10 ans  1h 48min           2587056   \n",
       "2    16/12/2009        Tout public  2h 40min           2648596   \n",
       "3    25/04/2018        Tout public  2h 36min           2565953   \n",
       "4    24/11/2010        Tout public  2h 30min           2537450   \n",
       "\n",
       "   duration_minutes                                             actors  \n",
       "0               107  [Dany Boon, François Berléand, Valérie Bonneto...  \n",
       "1               108  [Dany Boon, Benoît Poelvoorde, François Damien...  \n",
       "2               160   [Sam Worthington, Zoe Saldaña, Sigourney Weaver]  \n",
       "3               156  [Chris Evans, Chris Hemsworth, Josh Brolin, Ro...  \n",
       "4               150  [Daniel Radcliffe, Emma Watson, Helena Bonham ...  "
      ]
     },
     "execution_count": 595,
     "metadata": {},
     "output_type": "execute_result"
    }
   ],
   "source": [
    "df.head()"
   ]
  },
  {
   "cell_type": "code",
   "execution_count": 596,
   "id": "8f789da7",
   "metadata": {},
   "outputs": [],
   "source": [
    "df[\"actor_1\"] = df[\"actors\"].apply(lambda x: x[0] if len(x) > 0 else None)\n",
    "df[\"actor_2\"] = df[\"actors\"].apply(lambda x: x[1] if len(x) > 1 else None)\n",
    "df[\"actor_3\"] = df[\"actors\"].apply(lambda x: x[2] if len(x) > 2 else None)\n",
    "\n",
    "df.drop([\"actors\"], inplace = True, axis = 1)\n"
   ]
  },
  {
   "cell_type": "code",
   "execution_count": 597,
   "id": "6047b087",
   "metadata": {},
   "outputs": [
    {
     "data": {
      "text/plain": [
       "fr_title              0\n",
       "released_year         0\n",
       "directors             0\n",
       "writer                0\n",
       "distribution          0\n",
       "country               0\n",
       "budget                0\n",
       "category              0\n",
       "released_date         0\n",
       "classification        0\n",
       "duration              0\n",
       "weekly_entrances      0\n",
       "duration_minutes      0\n",
       "actor_1              72\n",
       "actor_2             105\n",
       "actor_3             128\n",
       "dtype: int64"
      ]
     },
     "execution_count": 597,
     "metadata": {},
     "output_type": "execute_result"
    }
   ],
   "source": [
    "df.isna().sum()"
   ]
  },
  {
   "cell_type": "code",
   "execution_count": 598,
   "id": "c3345ded",
   "metadata": {},
   "outputs": [],
   "source": [
    "df[df[\"actor_1\"].isna()]\n",
    "\n",
    "df[[\"actor_1\", \"actor_2\", \"actor_3\"]] = df[[\"actor_1\", \"actor_2\", \"actor_3\"]].fillna(\"no_actor\")"
   ]
  },
  {
   "cell_type": "code",
   "execution_count": 599,
   "id": "3d4fb07c",
   "metadata": {},
   "outputs": [
    {
     "name": "stdout",
     "output_type": "stream",
     "text": [
      "(7251, 16)\n"
     ]
    },
    {
     "data": {
      "text/plain": [
       "fr_title            0\n",
       "released_year       0\n",
       "directors           0\n",
       "writer              0\n",
       "distribution        0\n",
       "country             0\n",
       "budget              0\n",
       "category            0\n",
       "released_date       0\n",
       "classification      0\n",
       "duration            0\n",
       "weekly_entrances    0\n",
       "duration_minutes    0\n",
       "actor_1             0\n",
       "actor_2             0\n",
       "actor_3             0\n",
       "dtype: int64"
      ]
     },
     "execution_count": 599,
     "metadata": {},
     "output_type": "execute_result"
    }
   ],
   "source": [
    "print(df.shape)\n",
    "df.isna().sum()\n"
   ]
  },
  {
   "cell_type": "code",
   "execution_count": 600,
   "id": "8b03dbd3",
   "metadata": {},
   "outputs": [],
   "source": [
    "import json\n",
    "\n",
    "\n",
    "df.to_csv(\"DATASET_FINAL.csv\", index = False)\n",
    "\n",
    "records = df.replace({np.nan: None}).to_dict(orient=\"records\")\n",
    "with open(\"DATASET_FINAL.json\", \"w\", encoding=\"utf-8\") as f:\n",
    "    f.write(\"[\\n\")\n",
    "    for i, record in enumerate(records):\n",
    "        json_str = json.dumps(record, ensure_ascii=False)\n",
    "        if i < len(records) - 1:\n",
    "            f.write(f\"    {json_str},\\n\")\n",
    "        else:\n",
    "            f.write(f\"    {json_str}\\n\")\n",
    "    f.write(\"]\\n\")\n"
   ]
  },
  {
   "cell_type": "code",
   "execution_count": null,
   "id": "6c81e2de",
   "metadata": {},
   "outputs": [],
   "source": []
  }
 ],
 "metadata": {
  "kernelspec": {
   "display_name": ".venv",
   "language": "python",
   "name": "python3"
  },
  "language_info": {
   "codemirror_mode": {
    "name": "ipython",
    "version": 3
   },
   "file_extension": ".py",
   "mimetype": "text/x-python",
   "name": "python",
   "nbconvert_exporter": "python",
   "pygments_lexer": "ipython3",
   "version": "3.11.2"
  }
 },
 "nbformat": 4,
 "nbformat_minor": 5
}
